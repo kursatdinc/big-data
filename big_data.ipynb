{
 "cells": [
  {
   "cell_type": "markdown",
   "id": "7c67dd00-0aab-4cea-8703-d690bf5aea23",
   "metadata": {},
   "source": [
    "## Pyspark Giriş"
   ]
  },
  {
   "cell_type": "code",
   "execution_count": null,
   "id": "986e2980-3810-43cc-a41f-7760c093369d",
   "metadata": {},
   "outputs": [],
   "source": [
    "import warnings\n",
    "warnings.filterwarnings(\"ignore\", category=DeprecationWarning)\n",
    "warnings.filterwarnings(\"ignore\", category=FutureWarning)"
   ]
  },
  {
   "cell_type": "code",
   "execution_count": null,
   "id": "9c1db857-4b51-44f4-8d3e-a51443286d0c",
   "metadata": {},
   "outputs": [],
   "source": [
    "!pip install findspark"
   ]
  },
  {
   "cell_type": "code",
   "execution_count": null,
   "id": "fc4f03ac-ed56-4ee9-8727-20f30d428f04",
   "metadata": {},
   "outputs": [],
   "source": [
    "import findspark"
   ]
  },
  {
   "cell_type": "code",
   "execution_count": null,
   "id": "194d4941-25e9-4e9d-b8d1-53c648343674",
   "metadata": {},
   "outputs": [],
   "source": [
    "findspark.init(\"/Users/krtdnc/spark/spark-3.5.0-bin-hadoop3\")"
   ]
  },
  {
   "cell_type": "code",
   "execution_count": null,
   "id": "44502ae8-d5cf-409c-b0a1-db70f5abd440",
   "metadata": {},
   "outputs": [],
   "source": [
    "from pyspark import SparkContext"
   ]
  },
  {
   "cell_type": "markdown",
   "id": "07336fc9-7863-4115-ada4-1c3e893df41e",
   "metadata": {
    "editable": true,
    "slideshow": {
     "slide_type": ""
    },
    "tags": []
   },
   "source": [
    "## Spark Uygulamasının Başlatılması"
   ]
  },
  {
   "cell_type": "code",
   "execution_count": null,
   "id": "5f8b8691-9bda-43b4-8768-784197e9c483",
   "metadata": {},
   "outputs": [],
   "source": [
    "import pyspark\n",
    "from pyspark.sql import SparkSession\n",
    "from pyspark.conf import SparkConf"
   ]
  },
  {
   "cell_type": "code",
   "execution_count": null,
   "id": "2a3a786b-2aeb-47ae-8724-0efca94ee10d",
   "metadata": {},
   "outputs": [],
   "source": [
    "spark = SparkSession.builder \\\n",
    "    .master(\"local\") \\\n",
    "    .appName(\"pyspark_giris\") \\\n",
    "    .getOrCreate()\n",
    "\n",
    "sc = spark.sparkContext"
   ]
  },
  {
   "cell_type": "code",
   "execution_count": null,
   "id": "6d311773-3010-4881-9a04-512224ddb0e1",
   "metadata": {},
   "outputs": [],
   "source": [
    "sc"
   ]
  },
  {
   "cell_type": "code",
   "execution_count": null,
   "id": "d3cae85a-0711-4825-aef3-7b0de7f99063",
   "metadata": {},
   "outputs": [],
   "source": [
    "sc.version"
   ]
  },
  {
   "cell_type": "code",
   "execution_count": null,
   "id": "b2af52f2-88c3-4651-aea3-ea793565712e",
   "metadata": {},
   "outputs": [],
   "source": [
    "sc.appName"
   ]
  },
  {
   "cell_type": "code",
   "execution_count": null,
   "id": "00d1a0f4-87b1-466a-817f-22000f0019ef",
   "metadata": {},
   "outputs": [],
   "source": [
    "sc.stop()"
   ]
  },
  {
   "cell_type": "markdown",
   "id": "1868ced6-c208-4c36-8c54-dd4a8662f837",
   "metadata": {},
   "source": [
    "## Temel DataFrame İşlemleri"
   ]
  },
  {
   "cell_type": "code",
   "execution_count": null,
   "id": "4931ce24-0c6d-4e72-b329-befda7aa9f47",
   "metadata": {},
   "outputs": [],
   "source": [
    "sc"
   ]
  },
  {
   "cell_type": "code",
   "execution_count": null,
   "id": "6a1cec6c-b442-4876-ae60-f0a39ff97e22",
   "metadata": {},
   "outputs": [],
   "source": [
    "spark_df = spark.read.csv(\"./churn.csv\", header = True, inferSchema = True)"
   ]
  },
  {
   "cell_type": "code",
   "execution_count": null,
   "id": "c3daa0a8-02f3-4c9b-b9db-e4f0b8a08868",
   "metadata": {},
   "outputs": [],
   "source": [
    "spark_df.printSchema()"
   ]
  },
  {
   "cell_type": "code",
   "execution_count": null,
   "id": "cb189ab8-b74c-4de8-8e13-a006a30d0887",
   "metadata": {},
   "outputs": [],
   "source": [
    "type(spark_df)"
   ]
  },
  {
   "cell_type": "code",
   "execution_count": null,
   "id": "961d039d-f862-4193-b292-7389ea79ef13",
   "metadata": {},
   "outputs": [],
   "source": [
    "spark_df.cache()"
   ]
  },
  {
   "cell_type": "code",
   "execution_count": null,
   "id": "fa5bd934-fc0b-4dd7-974c-cb7506f879c3",
   "metadata": {},
   "outputs": [],
   "source": [
    "!pip install seaborn"
   ]
  },
  {
   "cell_type": "code",
   "execution_count": null,
   "id": "8e3f5031-bbc5-4494-9ee8-6365ad0c5b98",
   "metadata": {},
   "outputs": [],
   "source": [
    "import seaborn as sns\n",
    "df = sns.load_dataset(\"diamonds\")"
   ]
  },
  {
   "cell_type": "code",
   "execution_count": null,
   "id": "e96636cc-a04e-489e-9e0a-6acb06a00a32",
   "metadata": {},
   "outputs": [],
   "source": [
    "type(df)"
   ]
  },
  {
   "cell_type": "code",
   "execution_count": null,
   "id": "4288ff34-6c74-44e4-a0d1-4ba44df594a5",
   "metadata": {},
   "outputs": [],
   "source": [
    "df.head()"
   ]
  },
  {
   "cell_type": "code",
   "execution_count": null,
   "id": "a58e7ee2-a949-484b-80d9-8dbdfcfeb99f",
   "metadata": {},
   "outputs": [],
   "source": [
    "spark_df.head() #Her pandas fonskiyonu spark_df lerde aynı çalışmaz ve farklı sonuçlar verebilir sparkın kendi fonksiyonlarını öğrenmek zorundayız."
   ]
  },
  {
   "cell_type": "code",
   "execution_count": null,
   "id": "df6aba1a-888e-4df7-b081-eccf01a8bf68",
   "metadata": {},
   "outputs": [],
   "source": [
    "spark_df.show(5, truncate = True)"
   ]
  },
  {
   "cell_type": "code",
   "execution_count": null,
   "id": "aaad3ea7-76dd-431c-8b7a-be40c8c58871",
   "metadata": {},
   "outputs": [],
   "source": [
    "spark_df.count()"
   ]
  },
  {
   "cell_type": "code",
   "execution_count": null,
   "id": "6fb440c9-a723-40e4-90d7-19b23c0adbe0",
   "metadata": {},
   "outputs": [],
   "source": [
    "spark_df.columns"
   ]
  },
  {
   "cell_type": "code",
   "execution_count": null,
   "id": "bec840ee-5cc4-4471-a622-fef5ab674743",
   "metadata": {},
   "outputs": [],
   "source": [
    "spark_df.describe().show()"
   ]
  },
  {
   "cell_type": "code",
   "execution_count": null,
   "id": "c7ce4e79-a633-4e20-9abd-88b9270366df",
   "metadata": {},
   "outputs": [],
   "source": [
    "spark_df.describe(\"Age\").show()"
   ]
  },
  {
   "cell_type": "code",
   "execution_count": null,
   "id": "662d7a7c-349a-4af5-ab4a-07a43fa57070",
   "metadata": {},
   "outputs": [],
   "source": [
    "spark_df.select(\"Age\",\"Names\").show()"
   ]
  },
  {
   "cell_type": "code",
   "execution_count": null,
   "id": "9d05b503-7405-43fe-a23a-15a67a8f76ee",
   "metadata": {},
   "outputs": [],
   "source": [
    "spark_df.filter(spark_df.Age>40).count()"
   ]
  },
  {
   "cell_type": "code",
   "execution_count": null,
   "id": "ff037055-d556-4863-a0b6-22ccf4cd21a6",
   "metadata": {},
   "outputs": [],
   "source": [
    "spark_df.groupby(\"Churn\").count().show()"
   ]
  },
  {
   "cell_type": "code",
   "execution_count": null,
   "id": "fe901a87-c1c5-456e-8acd-03ce2e870acf",
   "metadata": {},
   "outputs": [],
   "source": [
    "spark_df.groupby(\"Churn\").agg({\"Age\":\"mean\"}).show()"
   ]
  },
  {
   "cell_type": "code",
   "execution_count": null,
   "id": "3ad2542b-d4fb-44c4-8a77-f87f10322e40",
   "metadata": {},
   "outputs": [],
   "source": [
    "sc.stop()"
   ]
  },
  {
   "cell_type": "markdown",
   "id": "30b93986-bae6-48dd-b29a-0db7fa3275f0",
   "metadata": {},
   "source": [
    "## SQL İşlemleri"
   ]
  },
  {
   "cell_type": "code",
   "execution_count": null,
   "id": "4a18fc2c-a886-48a2-8e68-aaeab35c6d76",
   "metadata": {},
   "outputs": [],
   "source": [
    "sc"
   ]
  },
  {
   "cell_type": "code",
   "execution_count": null,
   "id": "fc89c698-19b6-453f-b39f-b0812593cebb",
   "metadata": {},
   "outputs": [],
   "source": [
    "spark_df.registerTempTable(\"tbl_df\")"
   ]
  },
  {
   "cell_type": "code",
   "execution_count": null,
   "id": "a5b96e21-50f0-4f06-a5e4-0a47eb8181d3",
   "metadata": {},
   "outputs": [],
   "source": [
    "spark.sql(\"show databases\").show()"
   ]
  },
  {
   "cell_type": "code",
   "execution_count": null,
   "id": "fea38cd8-9c25-4287-aeb3-b49d7fe375de",
   "metadata": {},
   "outputs": [],
   "source": [
    "spark.sql(\"show tables\").show()"
   ]
  },
  {
   "cell_type": "code",
   "execution_count": null,
   "id": "77222b06-ca9b-48e7-90f3-bfd48a0dc446",
   "metadata": {},
   "outputs": [],
   "source": [
    "spark.sql(\"select Age from tbl_df\").show(5)"
   ]
  },
  {
   "cell_type": "code",
   "execution_count": null,
   "id": "6a7c7d01-8b72-4c3f-92c0-6fac4434727d",
   "metadata": {},
   "outputs": [],
   "source": [
    "spark.sql(\"select Churn, mean(Age) from tbl_df group by Churn\").show()"
   ]
  },
  {
   "cell_type": "code",
   "execution_count": null,
   "id": "4a18c780-0100-451d-bb8f-93f42880172e",
   "metadata": {},
   "outputs": [],
   "source": [
    "sc.stop()"
   ]
  },
  {
   "cell_type": "markdown",
   "id": "a1c8c781-84f1-4286-8193-11a0fb361d1d",
   "metadata": {},
   "source": [
    "## Büyük Veri Görselleştirme"
   ]
  },
  {
   "cell_type": "code",
   "execution_count": null,
   "id": "76431bc2-b4c1-4ba0-9e87-eedeb53ed760",
   "metadata": {},
   "outputs": [],
   "source": [
    "sc"
   ]
  },
  {
   "cell_type": "code",
   "execution_count": null,
   "id": "0604720c-ddca-47e6-a3d6-3f4173ce7246",
   "metadata": {},
   "outputs": [],
   "source": [
    "import matplotlib.pyplot as plt\n",
    "import seaborn as sns"
   ]
  },
  {
   "cell_type": "code",
   "execution_count": null,
   "id": "5aad138e-b0ef-4911-97ce-90484a8d8e03",
   "metadata": {},
   "outputs": [],
   "source": [
    "sdf = spark_df.toPandas() \n",
    "\n",
    "# Matplotlib pandas dataframe üzerinden çalışır bu yüzden önce spark ortamındaki dataframei pandas dataframeine çevirmemiz gerekiyor.\n",
    "# Ancak çok büyük verilerde bunu yapamayacağımızdan dolayı sadece ihtiyacımız olan kolonları çekmemiz gerekir. Aşağıda örnek veriyoruz.\n",
    "# Local makinamızda büyük veriyi görselleştiremeyeceğimiz için indirgeme işleminden sonra görselleştirmemiz gerekir. Örn: [46]"
   ]
  },
  {
   "cell_type": "code",
   "execution_count": null,
   "id": "96948ca3-2bd4-4a0e-9346-4b8206d26b80",
   "metadata": {},
   "outputs": [],
   "source": [
    "sdf.head()"
   ]
  },
  {
   "cell_type": "code",
   "execution_count": null,
   "id": "14d50346-123e-40b4-a9fc-0865b180f36e",
   "metadata": {
    "scrolled": true
   },
   "outputs": [],
   "source": [
    "sns.barplot(x = \"Churn\", y = sdf.Churn.index, data = sdf)"
   ]
  },
  {
   "cell_type": "code",
   "execution_count": null,
   "id": "2b72ca98-1936-40c7-9d94-a83de70cd101",
   "metadata": {},
   "outputs": [],
   "source": [
    "a = spark_df.groupby(\"Churn\").count().toPandas()\n",
    "\n",
    "# Büyük veri indirgeme işlemi"
   ]
  },
  {
   "cell_type": "code",
   "execution_count": null,
   "id": "6fc141d0-228f-4437-8b53-8ff140db9091",
   "metadata": {},
   "outputs": [],
   "source": [
    "a"
   ]
  },
  {
   "cell_type": "code",
   "execution_count": null,
   "id": "31584510-6028-4eec-a131-beb8b26a0411",
   "metadata": {},
   "outputs": [],
   "source": [
    "sc.stop()"
   ]
  },
  {
   "cell_type": "markdown",
   "id": "3bd8dc7d-68dd-485e-a846-10dc7eedbf5e",
   "metadata": {},
   "source": [
    "## Makine Öğrenmesi"
   ]
  },
  {
   "cell_type": "code",
   "execution_count": null,
   "id": "5575f8a4-e5e5-4121-a20d-d447199cab4d",
   "metadata": {},
   "outputs": [],
   "source": [
    "sc"
   ]
  },
  {
   "cell_type": "code",
   "execution_count": null,
   "id": "1b73f90c-702b-4cb9-b8e8-32ba2444d629",
   "metadata": {},
   "outputs": [],
   "source": [
    "spark_df = spark.read.csv(\"./churn.csv\", header = True, inferSchema = True)"
   ]
  },
  {
   "cell_type": "code",
   "execution_count": null,
   "id": "8539ceb8-d974-4fdd-8fec-e299f7830c59",
   "metadata": {},
   "outputs": [],
   "source": [
    "spark_df.show(5)"
   ]
  },
  {
   "cell_type": "code",
   "execution_count": null,
   "id": "b369ac82-3d2c-4909-8a99-03aeafb3bc03",
   "metadata": {},
   "outputs": [],
   "source": [
    "spark_df = spark_df.toDF(*[c.lower() for c in spark_df.columns])"
   ]
  },
  {
   "cell_type": "code",
   "execution_count": null,
   "id": "8954301d-dfbe-4459-848d-58f0b31fc20f",
   "metadata": {},
   "outputs": [],
   "source": [
    "spark_df.show(5)"
   ]
  },
  {
   "cell_type": "code",
   "execution_count": null,
   "id": "c5eca010-f310-4772-9859-3b440d2b1758",
   "metadata": {},
   "outputs": [],
   "source": [
    "spark_df = spark_df.withColumnRenamed(\"_c0\", \"index\")"
   ]
  },
  {
   "cell_type": "code",
   "execution_count": null,
   "id": "faa637a0-956f-4f88-bde9-1cbbba84f1e4",
   "metadata": {},
   "outputs": [],
   "source": [
    "spark_df.show(5)"
   ]
  },
  {
   "cell_type": "code",
   "execution_count": null,
   "id": "2abfdbf8-0d11-4847-9ede-8921a49bfd5b",
   "metadata": {},
   "outputs": [],
   "source": [
    "spark_df.count()"
   ]
  },
  {
   "cell_type": "code",
   "execution_count": null,
   "id": "618aaaa5-f1ce-4f58-8c1d-2c471f5598e0",
   "metadata": {},
   "outputs": [],
   "source": [
    "len(spark_df.columns)"
   ]
  },
  {
   "cell_type": "code",
   "execution_count": null,
   "id": "84ac1e9f-6da7-468f-a5ec-e39131d9d4a8",
   "metadata": {},
   "outputs": [],
   "source": [
    "spark_df.columns"
   ]
  },
  {
   "cell_type": "code",
   "execution_count": null,
   "id": "b5123b26-1218-4a1a-a606-6afdce1eaa2d",
   "metadata": {},
   "outputs": [],
   "source": [
    "spark_df.describe().show()"
   ]
  },
  {
   "cell_type": "code",
   "execution_count": null,
   "id": "14d47895-3c5d-4300-94d5-e4a5e6639ecd",
   "metadata": {},
   "outputs": [],
   "source": [
    "spark_df.select(\"age\",\"total_purchase\",\"account_manager\",\"years\",\"num_sites\",\"churn\").describe().toPandas().transpose()"
   ]
  },
  {
   "cell_type": "code",
   "execution_count": null,
   "id": "424ac4b1-2c47-400a-986c-31567c568d92",
   "metadata": {},
   "outputs": [],
   "source": [
    "spark_df = spark_df.dropna()"
   ]
  },
  {
   "cell_type": "code",
   "execution_count": null,
   "id": "72fbbfcb-6120-42ec-826e-dbd7d40abf7a",
   "metadata": {},
   "outputs": [],
   "source": [
    "spark_df = spark_df.withColumn(\"age_kare\", spark_df.age**2)"
   ]
  },
  {
   "cell_type": "code",
   "execution_count": null,
   "id": "3efb6b67-30b4-4601-85ef-bc99983f8363",
   "metadata": {},
   "outputs": [],
   "source": [
    "spark_df.show(5)"
   ]
  },
  {
   "cell_type": "code",
   "execution_count": null,
   "id": "a49e9837-d7a5-4176-8f6f-115f0f4e6002",
   "metadata": {},
   "outputs": [],
   "source": [
    "# Bağımli değişkeni belirtme"
   ]
  },
  {
   "cell_type": "code",
   "execution_count": null,
   "id": "97936a81-2d99-4619-99dc-f1d6de4ae385",
   "metadata": {},
   "outputs": [],
   "source": [
    "from pyspark.ml.feature import StringIndexer"
   ]
  },
  {
   "cell_type": "code",
   "execution_count": null,
   "id": "8fe28c99-04ed-43db-9462-4edcede65eab",
   "metadata": {},
   "outputs": [],
   "source": [
    "stringIndexer = StringIndexer(inputCol = \"churn\", outputCol = \"label\")\n",
    "mod = stringIndexer.fit(spark_df)\n",
    "indexed = mod.transform(spark_df)\n",
    "spark_df = indexed.withColumn(\"label\", indexed[\"label\"].cast(\"integer\"))"
   ]
  },
  {
   "cell_type": "code",
   "execution_count": null,
   "id": "785d5e6c-a8ec-481c-850f-333f5f565eda",
   "metadata": {},
   "outputs": [],
   "source": [
    "spark_df.show(5)"
   ]
  },
  {
   "cell_type": "code",
   "execution_count": null,
   "id": "3e67137e-cf72-46fb-84d3-d8d9b0f4228f",
   "metadata": {},
   "outputs": [],
   "source": [
    "# Bağımsız değişkenleri ayarlama"
   ]
  },
  {
   "cell_type": "code",
   "execution_count": null,
   "id": "03bfc4f1-adce-4a97-86a9-8da46170fd6c",
   "metadata": {},
   "outputs": [],
   "source": [
    "from pyspark.ml.feature import VectorAssembler"
   ]
  },
  {
   "cell_type": "code",
   "execution_count": null,
   "id": "8b2e9094-ed84-4d61-96e7-fb4907f4fc10",
   "metadata": {},
   "outputs": [],
   "source": [
    "spark_df.columns"
   ]
  },
  {
   "cell_type": "code",
   "execution_count": null,
   "id": "e6669164-d122-41e7-931e-c5d63e6d6953",
   "metadata": {},
   "outputs": [],
   "source": [
    "bagimsiz_degiskenler = [\"age\", \"total_purchase\", \"account_manager\", \"years\", \"num_sites\"]"
   ]
  },
  {
   "cell_type": "code",
   "execution_count": null,
   "id": "123fd8e1-7145-4bbd-a8c4-21a2abb551e0",
   "metadata": {},
   "outputs": [],
   "source": [
    "vectorAssembler = VectorAssembler(inputCols = bagimsiz_degiskenler, outputCol = \"features\")\n",
    "va_df = vectorAssembler.transform(spark_df)"
   ]
  },
  {
   "cell_type": "code",
   "execution_count": null,
   "id": "e9a423be-ca56-4cc7-9447-625044257a51",
   "metadata": {},
   "outputs": [],
   "source": [
    "va_df.show(5)"
   ]
  },
  {
   "cell_type": "code",
   "execution_count": null,
   "id": "d62830b3-b0cd-4eab-9c17-ce2dc465b501",
   "metadata": {},
   "outputs": [],
   "source": [
    "final_df = va_df.select([\"features\", \"label\"])"
   ]
  },
  {
   "cell_type": "code",
   "execution_count": null,
   "id": "6471926d-d4e3-4c3b-87df-5ca74a5a716c",
   "metadata": {},
   "outputs": [],
   "source": [
    "final_df.show(5)"
   ]
  },
  {
   "cell_type": "code",
   "execution_count": null,
   "id": "370e9433-0843-465f-8002-05a34174bd0c",
   "metadata": {},
   "outputs": [],
   "source": [
    "# Test _ Train"
   ]
  },
  {
   "cell_type": "code",
   "execution_count": null,
   "id": "59dabb95-06de-4f79-be06-df730f269445",
   "metadata": {},
   "outputs": [],
   "source": [
    "splits = final_df.randomSplit([0.70,0.30])\n",
    "train_df = splits[0]\n",
    "test_df = splits[1]"
   ]
  },
  {
   "cell_type": "code",
   "execution_count": null,
   "id": "753c741b-1fb3-4f0a-908e-39d4d00f977c",
   "metadata": {},
   "outputs": [],
   "source": [
    "train_df"
   ]
  },
  {
   "cell_type": "code",
   "execution_count": null,
   "id": "b911937e-f206-47bb-9bd4-b5990809139a",
   "metadata": {},
   "outputs": [],
   "source": [
    "test_df"
   ]
  },
  {
   "cell_type": "code",
   "execution_count": null,
   "id": "7fe7bf9e-f40a-4b2b-9508-4890d2772d0c",
   "metadata": {},
   "outputs": [],
   "source": [
    "sc.stop()"
   ]
  },
  {
   "cell_type": "markdown",
   "id": "157b7497-e22e-4092-a7e9-e1da67902f43",
   "metadata": {},
   "source": [
    "## GBM ile Müşteri Terk Modellemesi"
   ]
  },
  {
   "cell_type": "code",
   "execution_count": null,
   "id": "5e8fb9d9-0999-47ca-ae33-6adb9189be86",
   "metadata": {},
   "outputs": [],
   "source": [
    "sc"
   ]
  },
  {
   "cell_type": "code",
   "execution_count": null,
   "id": "59138b3a-8952-4e2a-bb18-d928ee9cbd8a",
   "metadata": {},
   "outputs": [],
   "source": [
    "from pyspark.ml.classification import GBTClassifier"
   ]
  },
  {
   "cell_type": "code",
   "execution_count": null,
   "id": "99ed7619-3f3e-4eaf-9dfc-d5618fe6b1af",
   "metadata": {},
   "outputs": [],
   "source": [
    "gbm = GBTClassifier(maxIter = 10, featuresCol = \"features\", labelCol = \"label\")"
   ]
  },
  {
   "cell_type": "code",
   "execution_count": null,
   "id": "e2e6c25c-d5e6-412e-9671-4ecc0dabb9f6",
   "metadata": {
    "scrolled": true
   },
   "outputs": [],
   "source": [
    "gbm_model = gbm.fit(train_df)"
   ]
  },
  {
   "cell_type": "code",
   "execution_count": null,
   "id": "32cffcca-e336-4167-9ca0-1b2cbddfc5ba",
   "metadata": {},
   "outputs": [],
   "source": [
    "y_pred = gbm_model.transform(test_df)"
   ]
  },
  {
   "cell_type": "code",
   "execution_count": null,
   "id": "ed8fec54-454e-4589-b00d-a1701667b5db",
   "metadata": {},
   "outputs": [],
   "source": [
    "ac = y_pred.select(\"label\", \"prediction\")"
   ]
  },
  {
   "cell_type": "code",
   "execution_count": null,
   "id": "a43c78bf-3d3c-484e-a821-218c29fe7f30",
   "metadata": {},
   "outputs": [],
   "source": [
    "ac.filter(ac.label == ac.prediction).count()/ac.count()"
   ]
  },
  {
   "cell_type": "code",
   "execution_count": null,
   "id": "dab64d5d-d2c8-4275-9cc9-dfc12486a8c3",
   "metadata": {},
   "outputs": [],
   "source": [
    "# Model Tuning"
   ]
  },
  {
   "cell_type": "code",
   "execution_count": null,
   "id": "b999f85a-f3a7-45b8-8746-578eafcd1f34",
   "metadata": {},
   "outputs": [],
   "source": [
    "from pyspark.ml.evaluation import BinaryClassificationEvaluator\n",
    "from pyspark.ml.tuning import ParamGridBuilder, CrossValidator\n",
    "\n",
    "evaluator = BinaryClassificationEvaluator()\n",
    "\n",
    "paramGrid = (ParamGridBuilder()\n",
    "             .addGrid(gbm.maxDepth, [2, 4, 6])\n",
    "             .addGrid(gbm.maxBins, [20, 30])\n",
    "             .addGrid(gbm.maxIter, [10, 20])\n",
    "             .build())\n",
    "\n",
    "cv = CrossValidator(estimator=gbm, estimatorParamMaps=paramGrid, evaluator=evaluator, numFolds=10)"
   ]
  },
  {
   "cell_type": "code",
   "execution_count": null,
   "id": "b57a9b68-157c-43e1-a300-6413c3a98c5c",
   "metadata": {},
   "outputs": [],
   "source": [
    "cvModel = cv.fit(train_df)"
   ]
  },
  {
   "cell_type": "code",
   "execution_count": null,
   "id": "bd4dc323-1950-47dd-b79e-db621b27f98c",
   "metadata": {},
   "outputs": [],
   "source": [
    "y_pred = cvModel.transform(test_df)"
   ]
  },
  {
   "cell_type": "code",
   "execution_count": null,
   "id": "fa6582d1-bb10-4567-a937-da634e8fb5c5",
   "metadata": {},
   "outputs": [],
   "source": [
    "ac = y_pred.select(\"label\",\"prediction\")"
   ]
  },
  {
   "cell_type": "code",
   "execution_count": null,
   "id": "f0f63524-bea7-4cdd-b947-a42dbc9dd39c",
   "metadata": {},
   "outputs": [],
   "source": [
    "ac.filter(ac.label == ac.prediction).count() / ac.count()"
   ]
  },
  {
   "cell_type": "code",
   "execution_count": null,
   "id": "278d4b1f-bf4d-4156-882c-23aa860fff8a",
   "metadata": {},
   "outputs": [],
   "source": [
    "# Yeni Müşteri Terk Eder mi ? Etmez mi ?"
   ]
  },
  {
   "cell_type": "code",
   "execution_count": null,
   "id": "19a61c9f-377b-444c-97a4-7bf0e3d7d1d5",
   "metadata": {},
   "outputs": [],
   "source": [
    "import pandas as pd\n",
    "\n",
    "names = pd.Series([\"Ali Ahmetoğlu\", \"Taner Gün\", \"Berkay\", \"Polat Konak\", \"Kamil Atasoy\"])\n",
    "age = pd.Series([38, 43, 34, 50, 40])\n",
    "total_purchase = pd.Series([30000, 10000, 6000, 30000, 100000])\n",
    "account_manager = pd.Series([1, 0, 0, 1, 1])\n",
    "years = pd.Series([20, 10, 3, 8, 30])\n",
    "num_sites = pd.Series([30, 8, 8, 6, 50])\n",
    "\n",
    "yeni_musteriler = pd.DataFrame({\n",
    "    \"names\":names,\n",
    "    \"age\":age,\n",
    "    \"total_purchase\":total_purchase,\n",
    "    \"account_manager\":account_manager,\n",
    "    \"years\":years,\n",
    "    \"num_sites\":num_sites})\n",
    "\n",
    "yeni_musteriler.columns"
   ]
  },
  {
   "cell_type": "code",
   "execution_count": null,
   "id": "5534f188-3bf3-4ec0-80d2-6b1f2d587ed7",
   "metadata": {},
   "outputs": [],
   "source": [
    "yeni_sdf = spark.createDataFrame(yeni_musteriler)"
   ]
  },
  {
   "cell_type": "code",
   "execution_count": null,
   "id": "571692db-893c-4db7-b539-ffa1b0f264d2",
   "metadata": {},
   "outputs": [],
   "source": [
    "yeni_sdf.show(5)"
   ]
  },
  {
   "cell_type": "code",
   "execution_count": null,
   "id": "1d02b54e-05cc-4f97-bb5d-7aaa86a377a1",
   "metadata": {},
   "outputs": [],
   "source": [
    "yeni_musteriler = vectorAssembler.transform(yeni_sdf)"
   ]
  },
  {
   "cell_type": "code",
   "execution_count": null,
   "id": "9628a281-4578-4a2f-a5b3-69093f1af7de",
   "metadata": {},
   "outputs": [],
   "source": [
    "results = cvModel.transform(yeni_musteriler)"
   ]
  },
  {
   "cell_type": "code",
   "execution_count": null,
   "id": "905a555f-ce82-40e8-9759-7f436aa6d3f8",
   "metadata": {},
   "outputs": [],
   "source": [
    "results.select(\"names\",\"prediction\").show()"
   ]
  },
  {
   "cell_type": "code",
   "execution_count": null,
   "id": "aab8a5a5-2768-4f77-b9e3-59b48072a6de",
   "metadata": {},
   "outputs": [],
   "source": [
    "sc.stop()"
   ]
  }
 ],
 "metadata": {
  "kernelspec": {
   "display_name": "Python 3 (ipykernel)",
   "language": "python",
   "name": "python3"
  },
  "language_info": {
   "codemirror_mode": {
    "name": "ipython",
    "version": 3
   },
   "file_extension": ".py",
   "mimetype": "text/x-python",
   "name": "python",
   "nbconvert_exporter": "python",
   "pygments_lexer": "ipython3",
   "version": "3.11.5"
  }
 },
 "nbformat": 4,
 "nbformat_minor": 5
}
